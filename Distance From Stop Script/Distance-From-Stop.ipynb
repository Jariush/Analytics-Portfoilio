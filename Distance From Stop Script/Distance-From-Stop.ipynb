{
 "cells": [
  {
   "cell_type": "code",
   "execution_count": 1,
   "id": "c1225da8",
   "metadata": {},
   "outputs": [
    {
     "name": "stdout",
     "output_type": "stream",
     "text": [
      "Defaulting to user installation because normal site-packages is not writeable\n",
      "Requirement already satisfied: pandas in c:\\program files\\arcgis\\pro\\bin\\python\\envs\\arcgispro-py3\\lib\\site-packages (1.4.4)\n",
      "Requirement already satisfied: geopy in c:\\users\\hamidja\\appdata\\roaming\\python\\python39\\site-packages (2.4.1)\n",
      "Requirement already satisfied: openpyxl in c:\\program files\\arcgis\\pro\\bin\\python\\envs\\arcgispro-py3\\lib\\site-packages (3.0.10)\n",
      "Requirement already satisfied: numpy>=1.18.5 in c:\\program files\\arcgis\\pro\\bin\\python\\envs\\arcgispro-py3\\lib\\site-packages (from pandas) (1.20.1)\n",
      "Requirement already satisfied: pytz>=2020.1 in c:\\program files\\arcgis\\pro\\bin\\python\\envs\\arcgispro-py3\\lib\\site-packages\\pytz-2022.6-py3.9.egg (from pandas) (2022.6)\n",
      "Requirement already satisfied: python-dateutil>=2.8.1 in c:\\program files\\arcgis\\pro\\bin\\python\\envs\\arcgispro-py3\\lib\\site-packages (from pandas) (2.8.2)\n",
      "Requirement already satisfied: geographiclib<3,>=1.52 in c:\\users\\hamidja\\appdata\\roaming\\python\\python39\\site-packages (from geopy) (2.0)\n",
      "Requirement already satisfied: et_xmlfile in c:\\program files\\arcgis\\pro\\bin\\python\\envs\\arcgispro-py3\\lib\\site-packages (from openpyxl) (1.1.0)\n",
      "Requirement already satisfied: six>=1.5 in c:\\program files\\arcgis\\pro\\bin\\python\\envs\\arcgispro-py3\\lib\\site-packages (from python-dateutil>=2.8.1->pandas) (1.16.0)\n"
     ]
    }
   ],
   "source": [
    "!pip install pandas geopy openpyxl\n"
   ]
  },
  {
   "cell_type": "code",
   "execution_count": 2,
   "id": "a7e59a56",
   "metadata": {},
   "outputs": [
    {
     "name": "stdout",
     "output_type": "stream",
     "text": [
      "    tract      county    state  total_pop  med_householdincome  poverty_total  \\\n",
      "0   10.00  Lee County  Florida     5967.0             51112.50        537.030   \n",
      "1  101.02  Lee County  Florida    10300.0             75680.75       1143.300   \n",
      "2  101.03  Lee County  Florida    11991.0             62735.00        623.532   \n",
      "3  101.04  Lee County  Florida     2097.0             92768.00        140.499   \n",
      "4  101.05  Lee County  Florida     5905.0             76159.40        596.405   \n",
      "\n",
      "   poverty_rate  avg_workhours    centlat   centlong   intptlat  intptlong  \\\n",
      "0         0.090           40.6  26.610642 -81.879252  26.610594 -81.879323   \n",
      "1         0.111           39.9  26.733730 -81.993061  26.747089 -81.990939   \n",
      "2         0.052           38.8  26.659556 -82.015243  26.659678 -82.014731   \n",
      "3         0.067           38.0  26.763770 -82.050599  26.767090 -82.051415   \n",
      "4         0.101           37.2  26.695987 -82.062320  26.686247 -82.069857   \n",
      "\n",
      "   employment total  employment %  \n",
      "0            3078.0     51.583710  \n",
      "1            4110.0     39.902913  \n",
      "2            5501.0     45.876074  \n",
      "3             283.0     13.495470  \n",
      "4            2440.0     41.320914  \n",
      "     ID                              Name     Code  Latitude  Longitude  Route\n",
      "0  3353            3 OAKS PKWY @ ALICO RD  11952.0  26.49150  -81.80109   60.0\n",
      "1  2274     3 OAKS PKWY @ COUNTRY OAKS DR  10456.0  26.45467  -81.78896   60.0\n",
      "2  2268        3 OAKS PKWY @ CYPRESS DR N  10450.0  26.47590  -81.79504   60.0\n",
      "3  2276  3 OAKS PKWY @ ESTERO GARDNS BLVD  10458.0  26.44390  -81.78893   60.0\n",
      "4  2275         3 OAKS PKWY @ ESTERO PKWY  10457.0  26.44855  -81.78903   60.0\n"
     ]
    }
   ],
   "source": [
    "import pandas as pd\n",
    "from geopy.distance import great_circle\n",
    "\n",
    "# Load the Excel files\n",
    "tract_data = pd.read_excel('Tract Data.xlsx')\n",
    "stop_data = pd.read_excel('Stop Data.xlsx')\n",
    "\n",
    "# Display the first few rows of each DataFrame to check\n",
    "print(tract_data.head())\n",
    "print(stop_data.head())\n"
   ]
  },
  {
   "cell_type": "code",
   "execution_count": 3,
   "id": "1c845b13",
   "metadata": {},
   "outputs": [
    {
     "name": "stdout",
     "output_type": "stream",
     "text": [
      "    tract      county    state  total_pop  med_householdincome  poverty_total  \\\n",
      "0   10.00  Lee County  Florida     5967.0             51112.50        537.030   \n",
      "1  101.02  Lee County  Florida    10300.0             75680.75       1143.300   \n",
      "2  101.03  Lee County  Florida    11991.0             62735.00        623.532   \n",
      "3  101.04  Lee County  Florida     2097.0             92768.00        140.499   \n",
      "4  101.05  Lee County  Florida     5905.0             76159.40        596.405   \n",
      "\n",
      "   poverty_rate  avg_workhours    centlat   centlong   intptlat  intptlong  \\\n",
      "0         0.090           40.6  26.610642 -81.879252  26.610594 -81.879323   \n",
      "1         0.111           39.9  26.733730 -81.993061  26.747089 -81.990939   \n",
      "2         0.052           38.8  26.659556 -82.015243  26.659678 -82.014731   \n",
      "3         0.067           38.0  26.763770 -82.050599  26.767090 -82.051415   \n",
      "4         0.101           37.2  26.695987 -82.062320  26.686247 -82.069857   \n",
      "\n",
      "   employment total  employment %  distance_from_closest_stop_miles  \n",
      "0            3078.0     51.583710                          0.439964  \n",
      "1            4110.0     39.902913                          5.259321  \n",
      "2            5501.0     45.876074                          2.049169  \n",
      "3             283.0     13.495470                          8.663726  \n",
      "4            2440.0     41.320914                          5.854395  \n"
     ]
    }
   ],
   "source": [
    "def calculate_distance(lat1, lon1, lat2, lon2):\n",
    "    return great_circle((lat1, lon1), (lat2, lon2)).miles\n",
    "\n",
    "def find_closest_stop(row, stop_data):\n",
    "    min_distance = float('inf')\n",
    "    for _, stop in stop_data.iterrows():\n",
    "        distance = calculate_distance(row['centlat'], row['centlong'], stop['Latitude'], stop['Longitude'])\n",
    "        if distance < min_distance:\n",
    "            min_distance = distance\n",
    "    return min_distance\n",
    "\n",
    "# Apply the function to each row in the tract data\n",
    "tract_data['distance_from_closest_stop_miles'] = tract_data.apply(lambda row: find_closest_stop(row, stop_data), axis=1)\n",
    "\n",
    "# Display the updated tract data\n",
    "print(tract_data.head())\n",
    "\n",
    "# Optionally, save the updated tract data to a new Excel file\n",
    "tract_data.to_excel('Updated_Tract_Data.xlsx', index=False)\n"
   ]
  },
  {
   "cell_type": "code",
   "execution_count": null,
   "id": "1b99abff",
   "metadata": {},
   "outputs": [],
   "source": []
  }
 ],
 "metadata": {
  "kernelspec": {
   "display_name": "Python 3 (ipykernel)",
   "language": "python",
   "name": "python3"
  },
  "language_info": {
   "codemirror_mode": {
    "name": "ipython",
    "version": 3
   },
   "file_extension": ".py",
   "mimetype": "text/x-python",
   "name": "python",
   "nbconvert_exporter": "python",
   "pygments_lexer": "ipython3",
   "version": "3.11.8"
  }
 },
 "nbformat": 4,
 "nbformat_minor": 5
}
